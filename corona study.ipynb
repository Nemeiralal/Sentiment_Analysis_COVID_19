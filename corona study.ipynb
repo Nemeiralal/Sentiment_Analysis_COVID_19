{
 "cells": [
  {
   "cell_type": "code",
   "execution_count": 1,
   "metadata": {},
   "outputs": [
    {
     "name": "stdout",
     "output_type": "stream",
     "text": [
      "Done\n"
     ]
    }
   ],
   "source": [
    "import tweepy as tw\n",
    "import pandas as pd\n",
    "import json\n",
    "\n",
    "# App Auth\n",
    "consumer_key = 'a'\n",
    "consumer_secret = 'b'\n",
    "access_key = 'c'\n",
    "access_secret = 'd'\n",
    "\n",
    "# Initialize API\n",
    "auth = tw.OAuthHandler(consumer_key, consumer_secret)\n",
    "auth.set_access_token(access_key, access_secret)\n",
    "api = tw.API(auth, wait_on_rate_limit=True)\n",
    "\n",
    "# Search terms\n",
    "search_words = [\"#coronavirus\", \"#COVID19\", \"#CoronavirusOutbreak\", \"#CoronavirusPandemic\"]\n",
    "#                 , \"#coronavirusindia\", \"#CoronavirusOutbreak\", \"#CoronavirusOutbreakindia\", \"#CoronavirusPandemic\"]\n",
    "date_since = \"2020-03-10\"\n",
    "\n",
    "# Collect tweets\n",
    "tweets = tw.Cursor(api.search,\n",
    "              q=search_words,\n",
    "              lang=\"en\",\n",
    "              since=date_since, tweet_mode='extended',\n",
    "              include_rts=True).items(500000)\n",
    "\n",
    "tweets_arr = []\n",
    "\n",
    "# Iterate and print tweets\n",
    "for tweet in tweets:\n",
    "    tweets_arr.append(tweet._json)\n",
    "print(\"Done\")\n",
    "\n",
    "with open(\"data.json\", \"w+\") as output:\n",
    "    output.write(json.dumps(tweets_arr))"
   ]
  },
  {
   "cell_type": "code",
   "execution_count": 5,
   "metadata": {
    "scrolled": false
   },
   "outputs": [
    {
     "name": "stderr",
     "output_type": "stream",
     "text": [
      "[nltk_data] Downloading package stopwords to\n",
      "[nltk_data]     C:\\Users\\Lenovo\\AppData\\Roaming\\nltk_data...\n",
      "[nltk_data]   Package stopwords is already up-to-date!\n",
      "[nltk_data] Downloading package punkt to\n",
      "[nltk_data]     C:\\Users\\Lenovo\\AppData\\Roaming\\nltk_data...\n",
      "[nltk_data]   Package punkt is already up-to-date!\n"
     ]
    },
    {
     "name": "stdout",
     "output_type": "stream",
     "text": [
      "NB Model Accuracy: 0.8333333333333334\n",
      "Analysing the twitter data\n",
      "Counter({4.0: 5734, 5.0: 2738, 2.0: 2140, 1.0: 1635})\n"
     ]
    },
    {
     "data": {
      "image/png": "[encoded data removed]",
      "text/plain": [
       "<Figure size 432x288 with 1 Axes>"
      ]
     },
     "metadata": {
      "needs_background": "light"
     },
     "output_type": "display_data"
    },
    {
     "data": {
      "image/png": "[encoded data removed]",
      "text/plain": [
       "<Figure size 432x288 with 1 Axes>"
      ]
     },
     "metadata": {
      "needs_background": "light"
     },
     "output_type": "display_data"
    }
   ],
   "source": [
    "# NLP imports\n",
    "import nltk\n",
    "from nltk.tokenize import sent_tokenize\n",
    "from nltk.corpus import stopwords\n",
    "from nltk.tokenize import word_tokenize\n",
    "from nltk.stem import PorterStemmer\n",
    "\n",
    "# sklearn imports\n",
    "from sklearn.model_selection import train_test_split\n",
    "from sklearn.feature_extraction.text import TfidfVectorizer\n",
    "from sklearn.naive_bayes import MultinomialNB\n",
    "from sklearn import metrics\n",
    "\n",
    "# pandas\n",
    "import pandas as pd\n",
    "\n",
    "# python imports\n",
    "import re\n",
    "import json\n",
    "from collections import Counter\n",
    "from matplotlib import pyplot as plt\n",
    "\n",
    "# seaborn import\n",
    "import seaborn as sns\n",
    "\n",
    "# preprocessor data sources and instances\n",
    "nltk.download('stopwords')\n",
    "nltk.download('punkt')\n",
    "stop_words = set(stopwords.words(\"english\"))\n",
    "ps = PorterStemmer()\n",
    "tf = TfidfVectorizer()\n",
    "\n",
    "Y = []\n",
    "sentences = []\n",
    "sentences_processed = []\n",
    "sentences_processed_tw = []\n",
    "\n",
    "# Reading data and creating sentences from data source\n",
    "with open(\"./data/processed_stars_all/electronics_all_balanced.review\", encoding='utf-8') as data:\n",
    "    all_data = data.read().strip().split(\"\\n\")\n",
    "    for n, line in enumerate(all_data):\n",
    "        line_data = line.split(\" \")[0:-1]\n",
    "        sentence = \"\"\n",
    "        for words_count in line_data:\n",
    "            words = words_count.split(\":\")[0].split(\"_\")\n",
    "            count = int(words_count.split(\":\")[1])\n",
    "            words = list(filter(\"<num>\".__ne__, words))\n",
    "            words = list(map(lambda x: re.sub(r'\\`|\\'|,|\\.|\\\"', '', x), words))\n",
    "\n",
    "            if len(words) == 0:\n",
    "                continue\n",
    "            words = words * count\n",
    "            sentence += \" \".join(words) + \" \"\n",
    "        sentences.append(sentence)\n",
    "        Y.append(float(line.split(\" \")[-1].split(\":\")[-1]))\n",
    "\n",
    "# Reading twitter data\n",
    "with open(\"data.json\") as twd:\n",
    "    data = twd.read()\n",
    "    json = json.loads(data)\n",
    "    \n",
    "    for tw in json:\n",
    "        text = tw['full_text']\n",
    "        # remove mentions, hashtags and punctuatoins\n",
    "        text = re.sub(r'RT|@[a-zA-Z0-9_]+|:|#[a-zA-Z0-9_]+|[0-9]+|,|\\'|\\\"|\\`|…', '', text)\n",
    "        text = re.sub(r'  ', ' ', text.strip())\n",
    "        sentences_processed_tw.append(text)\n",
    "\n",
    "# At this point we have sentences\n",
    "for sentence in sentences:\n",
    "    # Obtain work tokens\n",
    "    tokenized_words = word_tokenize(sentence)\n",
    "    # Remove stop words\n",
    "    filtered_words = list(filter(lambda x: x not in stop_words, tokenized_words))\n",
    "    # Stemming words (lematization is better but requires POS tagging which)\n",
    "    stemmed_words = list(map(ps.stem, filtered_words))\n",
    "    sentences_processed.append(\" \".join(stemmed_words))\n",
    "\n",
    "# Create a dataframe for downstream analysis\n",
    "data = pd.DataFrame(data={'sentence': sentences_processed, 'sentiment': Y})\n",
    "\n",
    "# Obtain TF-IDF transformation\n",
    "text_tf = tf.fit_transform(data['sentence'])\n",
    "\n",
    "# Split data into Test-Train sets\n",
    "X_train, X_test, y_train, y_test = train_test_split(\n",
    "    text_tf, data['sentiment'], test_size=0.001, random_state=1)\n",
    "\n",
    "clf = MultinomialNB().fit(X_train, y_train)\n",
    "predicted = clf.predict(X_test)\n",
    "\n",
    "print(\"NB Model Accuracy:\", metrics.accuracy_score(y_test, predicted))\n",
    "\n",
    "print(\"Analysing the twitter data\")\n",
    "\n",
    "# Transforming to TF-IDF of our trained corpus\n",
    "text_tf_tw = tf.transform(sentences_processed_tw)\n",
    "predicted_tw = clf.predict(text_tf_tw)\n",
    "\n",
    "print(Counter(predicted_tw))\n",
    "sns.distplot(predicted_tw, kde=False, norm_hist=False)\n",
    "plt.savefig(\"hist.png\", dpi=300)\n",
    "plt.figure()\n",
    "sns.distplot(predicted_tw)\n",
    "plt.savefig(\"hist_kde.png\", dpi=300)\n",
    "plt.show()\n"
   ]
  },
  {
   "cell_type": "code",
   "execution_count": null,
   "metadata": {},
   "outputs": [],
   "source": []
  }
 ],
 "metadata": {
  "kernelspec": {
   "display_name": "Python 3",
   "language": "python",
   "name": "python3"
  },
  "language_info": {
   "codemirror_mode": {
    "name": "ipython",
    "version": 3
   },
   "file_extension": ".py",
   "mimetype": "text/x-python",
   "name": "python",
   "nbconvert_exporter": "python",
   "pygments_lexer": "ipython3",
   "version": "3.7.1"
  }
 },
 "nbformat": 4,
 "nbformat_minor": 2
}
